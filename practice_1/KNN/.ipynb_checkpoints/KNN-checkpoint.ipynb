{
 "cells": [
  {
   "cell_type": "code",
   "execution_count": 138,
   "metadata": {
    "collapsed": false
   },
   "outputs": [],
   "source": [
    "import math, operator\n",
    "from collections import Counter, defaultdict\n",
    "from __future__ import division\n",
    "\n",
    "class KNN(object):\n",
    "    def __init__(self, K):\n",
    "        self.K = K\n",
    "        self.data = []\n",
    "    \n",
    "    def train(self, data):\n",
    "        self.data = data\n",
    "    \n",
    "    def classify(self, test_data):\n",
    "        out = []\n",
    "        for X, Y, _ in test_data:\n",
    "            distances = []\n",
    "            for X_, Y_, cls_ in self.data:\n",
    "                distances.append(( math.sqrt( (X-X_)**2 + (Y-Y_)**2 ) , cls_ ))\n",
    "            closestK = sorted(distances, key=operator.itemgetter(0))[:self.K]\n",
    "            classes = Counter()\n",
    "            for point in closestK:\n",
    "                classes[point[1]] += 1 \n",
    "            \n",
    "            out.append(classes.most_common(1)[0][0])\n",
    "        return out\n",
    "\n",
    "# scores for binary classification\n",
    "def compute_scores(Y, Y_correct):\n",
    "    assert len(Y) == len(Y_correct)\n",
    "    stats = Counter()\n",
    "    for i in range(len(Y)):\n",
    "        stats['total'] += 1\n",
    "        stats['correct'] += 1 if Y[i] == Y_correct[i] else 0\n",
    "        # class A - 0, class B - 1\n",
    "        stats['TP_a'] += 1 if Y[i] == Y_correct[i] and Y[i] == 0 else 0\n",
    "        stats['TP_b'] += 1 if Y[i] == Y_correct[i] and Y[i] == 1 else 0\n",
    "        stats['FP_a'] += 1 if Y[i] == 0 and Y_correct[i] == 1 else 0\n",
    "        stats['FP_b'] += 1 if Y[i] == 1 and Y_correct[i] == 0 else 0\n",
    "    stats['FN_a'] = stats['FP_b']\n",
    "    stats['FN_b'] = stats['FP_a']\n",
    "    \n",
    "    P_a = stats['TP_a'] / (stats['TP_a'] + stats['FP_a'])\n",
    "    P_b = stats['TP_b'] / (stats['TP_b'] + stats['FP_b'])\n",
    "    \n",
    "    R_a = stats['TP_a'] / (stats['TP_a'] + stats['FN_a'])\n",
    "    R_b = stats['TP_b'] / (stats['TP_b'] + stats['FN_b'])\n",
    "    \n",
    "    F1_a = 2 * P_a * R_a / (P_a + R_a)\n",
    "    F1_b = 2 * P_b * R_b / (P_b + R_b)\n",
    "    \n",
    "    Acc = stats['correct'] / stats['total']\n",
    "    \n",
    "    return {\"A\": Acc, \n",
    "            \"P_a\": P_a, \"P_b\": P_b, \n",
    "            \"R_a\": R_a, \"R_b\": R_b, \n",
    "            \"F1_a\": F1_a, \"F1_b\": F1_b}\n",
    "        "
   ]
  },
  {
   "cell_type": "code",
   "execution_count": 139,
   "metadata": {
    "collapsed": false
   },
   "outputs": [
    {
     "name": "stdout",
     "output_type": "stream",
     "text": [
      "[(0.051267, 0.69956, 1), (-0.092742, 0.68494, 1), (-0.21371, 0.69225, 1), (-0.375, 0.50219, 1), (-0.51325, 0.46564, 1)]\n"
     ]
    }
   ],
   "source": [
    "%matplotlib inline\n",
    "import numpy as np\n",
    "data = []\n",
    "with open(\"chips.txt\") as dataset:\n",
    "    for line in dataset:\n",
    "        l = line.strip().split(',')\n",
    "        l[-1] = int(l[-1])\n",
    "        l[:2] = map(float, l[:2])\n",
    "        data.append(tuple(l))\n",
    "print data[:5]"
   ]
  },
  {
   "cell_type": "code",
   "execution_count": 140,
   "metadata": {
    "collapsed": false,
    "scrolled": true
   },
   "outputs": [
    {
     "data": {
      "image/png": "[encoded data removed]",
      "text/plain": [
       "<matplotlib.figure.Figure at 0x1085b7e50>"
      ]
     },
     "metadata": {},
     "output_type": "display_data"
    }
   ],
   "source": [
    "import matplotlib.pyplot as plt\n",
    "def print_set(data):\n",
    "    colors = ['red', 'blue']\n",
    "    for X, Y, cls in data:\n",
    "        plt.scatter(X, Y, c=colors[cls], label=colors[cls], edgecolors='none')\n",
    "    plt.grid(True)\n",
    "    plt.show()\n",
    "    \n",
    "print_set(data)"
   ]
  },
  {
   "cell_type": "code",
   "execution_count": 141,
   "metadata": {
    "collapsed": false,
    "scrolled": false
   },
   "outputs": [],
   "source": [
    "from sklearn import cross_validation\n",
    "folds = cross_validation.KFold(\n",
    "    len(data), n_folds=4, random_state=0, shuffle=True)"
   ]
  },
  {
   "cell_type": "code",
   "execution_count": 147,
   "metadata": {
    "collapsed": false,
    "scrolled": false
   },
   "outputs": [
    {
     "name": "stdout",
     "output_type": "stream",
     "text": [
      "A\n"
     ]
    },
    {
     "data": {
      "image/png": "[encoded data removed]",
      "text/plain": [
       "<matplotlib.figure.Figure at 0x10846c3d0>"
      ]
     },
     "metadata": {},
     "output_type": "display_data"
    },
    {
     "name": "stdout",
     "output_type": "stream",
     "text": [
      "F1_a\n"
     ]
    },
    {
     "data": {
      "image/png": "[encoded data removed]",
      "text/plain": [
       "<matplotlib.figure.Figure at 0x108a090d0>"
      ]
     },
     "metadata": {},
     "output_type": "display_data"
    },
    {
     "name": "stdout",
     "output_type": "stream",
     "text": [
      "F1_b\n"
     ]
    },
    {
     "data": {
      "image/png": "[encoded data removed]",
      "text/plain": [
       "<matplotlib.figure.Figure at 0x10875d350>"
      ]
     },
     "metadata": {},
     "output_type": "display_data"
    }
   ],
   "source": [
    "# performances = { K (num of neighbours) => { Rec => {}, Prec => {}, Acc => {}, Fm => {}}}\n",
    "performances = defaultdict(defaultdict)\n",
    "\n",
    "for k in range(1, 21):\n",
    "    for fold in folds:\n",
    "        train_indices, test_indices = fold\n",
    "        TRAIN = [d for i, d in enumerate(data) if i in train_indices]\n",
    "        TEST = [d for i, d in enumerate(data) if i in test_indices]\n",
    "\n",
    "        knn = KNN(k)\n",
    "        knn.train(TRAIN)\n",
    "        labels = knn.classify(TEST)\n",
    "        correct_labels = [l[-1] for l in TEST]\n",
    "        scores = compute_scores(labels, correct_labels)\n",
    "        for metric, v in scores.items():\n",
    "            try:\n",
    "                performances[k][metric]['worst'] = min((performances[k][metric]['worst'], v))\n",
    "            except KeyError:\n",
    "                performances[k][metric] = {'worst': v, 'best': 0}\n",
    "            \n",
    "            performances[k][metric]['best'] = max((performances[k][metric]['best'], v))\n",
    "\n",
    "def print_metric_graph(metric, performances):\n",
    "    best = [performances[k][metric]['best'] - performances[k][metric]['worst'] \\\n",
    "            for k in performances]\n",
    "    worst = [performances[k][metric]['worst'] for k in performances]\n",
    "    width = 1\n",
    "    plt.bar(performances.keys(), worst, width, color='r')\n",
    "    plt.bar(performances.keys(), best, width, color='g', bottom=worst)\n",
    "    plt.ylim(0, 1)\n",
    "    plt.show()\n",
    "\n",
    "    \n",
    "for metric in \"A F1_a F1_b\".split():\n",
    "    print metric\n",
    "    print_metric_graph(metric, performances)"
   ]
  },
  {
   "cell_type": "code",
   "execution_count": null,
   "metadata": {
    "collapsed": false
   },
   "outputs": [],
   "source": []
  },
  {
   "cell_type": "code",
   "execution_count": null,
   "metadata": {
    "collapsed": true
   },
   "outputs": [],
   "source": []
  }
 ],
 "metadata": {
  "kernelspec": {
   "display_name": "Python 2",
   "language": "python",
   "name": "python2"
  },
  "language_info": {
   "codemirror_mode": {
    "name": "ipython",
    "version": 2
   },
   "file_extension": ".py",
   "mimetype": "text/x-python",
   "name": "python",
   "nbconvert_exporter": "python",
   "pygments_lexer": "ipython2",
   "version": "2.7.10"
  }
 },
 "nbformat": 4,
 "nbformat_minor": 0
}
