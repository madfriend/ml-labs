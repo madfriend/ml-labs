{
 "cells": [
  {
   "cell_type": "code",
   "execution_count": 82,
   "metadata": {
    "collapsed": false
   },
   "outputs": [],
   "source": [
    "class LinearRegression(object):\n",
    "    # number of iterations for gradient descent, alpha\n",
    "    def __init__(self, num_iterations=10, alpha=0.0001, num_vars=2):\n",
    "        self.theta = [0.] * (num_vars + 1)\n",
    "        self.num_iterations = num_iterations\n",
    "        self.alpha = alpha\n",
    "        \n",
    "    def normalize_features(self, X):\n",
    "        avg = []\n",
    "        ranges = []\n",
    "        for i in range(len(X[0])):\n",
    "            col = [x[i] for x in X]\n",
    "            avg.append(sum(col) / len(X))\n",
    "            ranges.append(max(col) - min(col))\n",
    "        for line in X:\n",
    "            for i, feature in enumerate(line):\n",
    "                feature = (feature - avg[i]) / ranges[i]\n",
    "        return X\n",
    "            \n",
    "    def train(self, data):\n",
    "        history_of_cost = []\n",
    "        X = [d[:-1] for d in data]\n",
    "        Y = [d[-1] for d in data]\n",
    "        \n",
    "        X = self.normalize_features(X)\n",
    "        Xvectors = [(1,) + x for x in X]\n",
    "\n",
    "        length = len(data)\n",
    "        \n",
    "        # gradient descent\n",
    "        for iteration in range(self.num_iterations):\n",
    "            predictions = self.predict(X)\n",
    "\n",
    "            for i, th in enumerate(self.theta):\n",
    "                Xcol = [vec[i] for vec in Xvectors]\n",
    "                sum_errors_for_X = sum(( Xcol[j] * (predictions[j] - Y[j]) \\\n",
    "                                        for j in range(length)))\n",
    "                self.theta[i] = th - self.alpha*sum_errors_for_X / length\n",
    "                \n",
    "            cost = self.cost(self.theta, Xvectors, Y)\n",
    "            #print iteration, cost\n",
    "            history_of_cost.append(cost)\n",
    "            \n",
    "        return history_of_cost\n",
    "                \n",
    "    def cost(self, theta, Xvectors, Y):\n",
    "        length = len(Y)\n",
    "        Y_ = [sum((theta[i] * x for i, x in enumerate(X))) for X in Xvectors]\n",
    "        errors = [Y_[i] - Y[i] for i in range(length)]\n",
    "        return sum((e**2 for e in errors)) / 2*length\n",
    "    \n",
    "    \n",
    "    def predict(self, test):\n",
    "        out = []\n",
    "        test = self.normalize_features(test)\n",
    "        for point in test:\n",
    "            y = self.theta[0] + \\\n",
    "                sum((self.theta[i + 1] * point[i] for i in range(0, len(point))))\n",
    "            out.append(y)\n",
    "        return out"
   ]
  },
  {
   "cell_type": "code",
   "execution_count": 83,
   "metadata": {
    "collapsed": false
   },
   "outputs": [
    {
     "name": "stdout",
     "output_type": "stream",
     "text": [
      "[(2104, 3, 399900), (1600, 3, 329900), (2400, 3, 369000), (1416, 2, 232000), (3000, 4, 539900)]\n"
     ]
    }
   ],
   "source": [
    "%matplotlib inline\n",
    "import numpy as np\n",
    "data = []\n",
    "with open(\"prices.txt\") as dataset:\n",
    "    for line in dataset:\n",
    "        l = map(int, line.strip().split(','))\n",
    "        data.append(tuple(l))\n",
    "print data[:5]"
   ]
  },
  {
   "cell_type": "code",
   "execution_count": 84,
   "metadata": {
    "collapsed": false
   },
   "outputs": [
    {
     "data": {
      "image/png": "[encoded data removed]",
      "text/plain": [
       "<matplotlib.figure.Figure at 0x103834c50>"
      ]
     },
     "metadata": {},
     "output_type": "display_data"
    }
   ],
   "source": [
    "from mpl_toolkits.mplot3d import Axes3D\n",
    "import matplotlib.pyplot as plt\n",
    "\n",
    "fig = plt.figure()\n",
    "ax = fig.add_subplot(111, projection='3d')\n",
    "ax.scatter(*zip(*data), color='r')\n",
    "\n",
    "plt.show()"
   ]
  },
  {
   "cell_type": "code",
   "execution_count": 85,
   "metadata": {
    "collapsed": true
   },
   "outputs": [],
   "source": [
    "from sklearn import cross_validation\n",
    "folds = cross_validation.KFold(\n",
    "    len(data), n_folds=10, random_state=0, shuffle=True)"
   ]
  },
  {
   "cell_type": "code",
   "execution_count": 125,
   "metadata": {
    "collapsed": false
   },
   "outputs": [
    {
     "name": "stderr",
     "output_type": "stream",
     "text": [
      "/Users/alex/anaconda/lib/python2.7/site-packages/IPython/kernel/__main__.py:17: RuntimeWarning: invalid value encountered in double_scalars\n"
     ]
    }
   ],
   "source": [
    "error_values = [] # for each fold\n",
    "\n",
    "for fold in folds:\n",
    "    train_indices, test_indices = fold\n",
    "    TRAIN = [d for i, d in enumerate(data) if i in train_indices]\n",
    "    TRAIN_PRICES = [d[-1] for i, d in enumerate(data) if i in train_indices]\n",
    "    TEST = [d[:-1] for i, d in enumerate(data) if i in test_indices]\n",
    "    TEST_PRICES = [d[-1] for i, d in enumerate(data) if i in test_indices]\n",
    "    LR = LinearRegression(num_iterations=10000, alpha=0.0000001)\n",
    "    \n",
    "    errors = LR.train(TRAIN)\n",
    "    \n",
    "    plt.scatter(range(len(errors)), errors)\n",
    "    \n",
    "    fig = plt.figure()\n",
    "    ax = fig.add_subplot(111, projection='3d')\n",
    "    ax.scatter(*zip(*TRAIN), color='r')\n",
    "    \n",
    "    import itertools, numpy as np\n",
    "    \n",
    "    X, Y = np.meshgrid(np.linspace(0, 6000, 100), np.linspace(0, 6, 100))\n",
    "    zs = np.array([LR.predict([[x,y]])[0] for x,y in zip(np.ravel(X), np.ravel(Y))])\n",
    "    Z = zs.reshape(X.shape)\n",
    "\n",
    "    ax.plot_surface(X, Y, Z, color=\"b\", alpha=0.1)\n",
    "    plt.show()\n",
    "    break"
   ]
  },
  {
   "cell_type": "code",
   "execution_count": null,
   "metadata": {
    "collapsed": true
   },
   "outputs": [],
   "source": []
  }
 ],
 "metadata": {
  "kernelspec": {
   "display_name": "Python 2",
   "language": "python",
   "name": "python2"
  }
 },
 "nbformat": 4,
 "nbformat_minor": 0
}
